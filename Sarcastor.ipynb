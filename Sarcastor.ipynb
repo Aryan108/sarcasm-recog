{
 "cells": [
  {
   "cell_type": "code",
   "execution_count": 1,
   "metadata": {},
   "outputs": [],
   "source": [
    "import json\n",
    "import nltk\n",
    "from tensorflow.keras.preprocessing.text import Tokenizer\n",
    "from tensorflow.keras.preprocessing.sequence import pad_sequences\n",
    "import tensorflow as tf\n",
    "import numpy as np"
   ]
  },
  {
   "cell_type": "code",
   "execution_count": 50,
   "metadata": {},
   "outputs": [
    {
     "data": {
      "text/plain": [
       "'2.5.0-dev20210222'"
      ]
     },
     "execution_count": 50,
     "metadata": {},
     "output_type": "execute_result"
    }
   ],
   "source": [
    "tf.__version__"
   ]
  },
  {
   "cell_type": "code",
   "execution_count": 2,
   "metadata": {},
   "outputs": [],
   "source": [
    "def parse_data(path):\n",
    "    for l in open(path,'r'):\n",
    "        yield json.loads(l)\n",
    "    "
   ]
  },
  {
   "cell_type": "markdown",
   "metadata": {},
   "source": [
    "# Data preprocessing"
   ]
  },
  {
   "cell_type": "code",
   "execution_count": 3,
   "metadata": {},
   "outputs": [],
   "source": [
    "data = list(parse_data('./Sarcasm_Headlines_Dataset_v2.json'))\n",
    "heads,labels = [],[]\n",
    "is_sarc,isnt_sarc = [],[]\n",
    "for item in data:\n",
    "    heads.append(item['headline'])\n",
    "    labels.append(item['is_sarcastic'])\n",
    "    if item['is_sarcastic'] == 1:\n",
    "        is_sarc.append(item['headline'])\n",
    "    if item['is_sarcastic'] == 0:\n",
    "        isnt_sarc.append(item['headline'])\n"
   ]
  },
  {
   "cell_type": "code",
   "execution_count": 4,
   "metadata": {},
   "outputs": [
    {
     "data": {
      "text/plain": [
       "{'is_sarcastic': 1,\n",
       " 'headline': \"mother comes pretty close to using word 'streaming' correctly\",\n",
       " 'article_link': 'https://www.theonion.com/mother-comes-pretty-close-to-using-word-streaming-cor-1819575546'}"
      ]
     },
     "execution_count": 4,
     "metadata": {},
     "output_type": "execute_result"
    }
   ],
   "source": [
    "data[4]"
   ]
  },
  {
   "cell_type": "code",
   "execution_count": 5,
   "metadata": {},
   "outputs": [],
   "source": [
    "def tokenize(texts): # input list of texts(strings)\n",
    "    tokd = []\n",
    "    for sent in texts:\n",
    "        sent = nltk.word_tokenize(sent)\n",
    "        for each in sent:\n",
    "            tokd.append(each)\n",
    "    return tokd\n",
    "\n",
    "is_sarc_tokd = tokenize(is_sarc)\n",
    "isnt_sarc_tokd = tokenize(isnt_sarc)\n",
    "\n",
    "        "
   ]
  },
  {
   "cell_type": "code",
   "execution_count": 6,
   "metadata": {},
   "outputs": [
    {
     "data": {
      "text/plain": [
       "['dem',\n",
       " 'rep.',\n",
       " 'totally',\n",
       " 'nails',\n",
       " 'why',\n",
       " 'congress',\n",
       " 'is',\n",
       " 'falling',\n",
       " 'short',\n",
       " 'on',\n",
       " 'gender',\n",
       " ',']"
      ]
     },
     "execution_count": 6,
     "metadata": {},
     "output_type": "execute_result"
    }
   ],
   "source": [
    "isnt_sarc_tokd[:12]"
   ]
  },
  {
   "cell_type": "code",
   "execution_count": 7,
   "metadata": {},
   "outputs": [],
   "source": [
    "stopwords = nltk.corpus.stopwords.words('english')"
   ]
  },
  {
   "cell_type": "code",
   "execution_count": 8,
   "metadata": {},
   "outputs": [],
   "source": [
    "def unw_filter(pos_tagged):\n",
    "    word, tag = pos_tagged\n",
    "    if not word.isalpha() or word in stopwords:\n",
    "        return False\n",
    "    return True\n",
    "is_sarc_words = [w for w,tag in filter(unw_filter,nltk.pos_tag(is_sarc_tokd))]\n",
    "isnt_sarc_words = [w for w,tag in filter(unw_filter,nltk.pos_tag(isnt_sarc_tokd))]"
   ]
  },
  {
   "cell_type": "code",
   "execution_count": 9,
   "metadata": {},
   "outputs": [
    {
     "data": {
      "text/plain": [
       "['thirtysomething',\n",
       " 'scientists',\n",
       " 'unveil',\n",
       " 'doomsday',\n",
       " 'clock',\n",
       " 'hair',\n",
       " 'loss',\n",
       " 'inclement',\n",
       " 'weather',\n",
       " 'prevents',\n",
       " 'liar',\n",
       " 'getting',\n",
       " 'work',\n",
       " 'mother',\n",
       " 'comes']"
      ]
     },
     "execution_count": 9,
     "metadata": {},
     "output_type": "execute_result"
    }
   ],
   "source": [
    "is_sarc_words[:15]"
   ]
  },
  {
   "cell_type": "code",
   "execution_count": 10,
   "metadata": {},
   "outputs": [
    {
     "data": {
      "text/plain": [
       "['dem',\n",
       " 'totally',\n",
       " 'nails',\n",
       " 'congress',\n",
       " 'falling',\n",
       " 'short',\n",
       " 'gender',\n",
       " 'racial',\n",
       " 'equality',\n",
       " 'eat',\n",
       " 'veggies',\n",
       " 'deliciously',\n",
       " 'different',\n",
       " 'recipes',\n",
       " 'white']"
      ]
     },
     "execution_count": 10,
     "metadata": {},
     "output_type": "execute_result"
    }
   ],
   "source": [
    "isnt_sarc_words[:15]"
   ]
  },
  {
   "cell_type": "markdown",
   "metadata": {},
   "source": [
    "# Feature Extraction"
   ]
  },
  {
   "cell_type": "code",
   "execution_count": 11,
   "metadata": {},
   "outputs": [
    {
     "data": {
      "text/plain": [
       "[('man', 1269),\n",
       " ('new', 981),\n",
       " ('report', 515),\n",
       " ('area', 487),\n",
       " ('woman', 387),\n",
       " ('nation', 387),\n",
       " ('trump', 381),\n",
       " ('one', 295),\n",
       " ('time', 276),\n",
       " ('day', 265),\n",
       " ('still', 247),\n",
       " ('study', 241),\n",
       " ('like', 237),\n",
       " ('get', 224),\n",
       " ('back', 217)]"
      ]
     },
     "execution_count": 11,
     "metadata": {},
     "output_type": "execute_result"
    }
   ],
   "source": [
    "sarc_fd = nltk.FreqDist(is_sarc_words)\n",
    "not_sarc_fd = nltk.FreqDist(isnt_sarc_words)\n",
    "common_set = set(sarc_fd).intersection(not_sarc_fd)\n",
    "\n",
    "sarc_fd.most_common(15)"
   ]
  },
  {
   "cell_type": "code",
   "execution_count": 12,
   "metadata": {},
   "outputs": [
    {
     "data": {
      "text/plain": [
       "[('trump', 1401),\n",
       " ('new', 670),\n",
       " ('donald', 455),\n",
       " ('says', 349),\n",
       " ('women', 310),\n",
       " ('one', 249),\n",
       " ('people', 238),\n",
       " ('world', 235),\n",
       " ('man', 233),\n",
       " ('obama', 232),\n",
       " ('first', 228),\n",
       " ('day', 214),\n",
       " ('gop', 213),\n",
       " ('make', 213),\n",
       " ('like', 205),\n",
       " ('could', 203),\n",
       " ('clinton', 201),\n",
       " ('get', 198),\n",
       " ('black', 190),\n",
       " ('life', 185),\n",
       " ('watch', 184),\n",
       " ('house', 182),\n",
       " ('america', 180),\n",
       " ('time', 178),\n",
       " ('white', 176)]"
      ]
     },
     "execution_count": 12,
     "metadata": {},
     "output_type": "execute_result"
    }
   ],
   "source": [
    "not_sarc_fd.most_common(25)"
   ]
  },
  {
   "cell_type": "code",
   "execution_count": 13,
   "metadata": {},
   "outputs": [],
   "source": [
    "#Remove common words\n",
    "\n",
    "for each in common_set:\n",
    "    del sarc_fd[each]\n",
    "    del not_sarc_fd[each]"
   ]
  },
  {
   "cell_type": "code",
   "execution_count": 14,
   "metadata": {},
   "outputs": [
    {
     "data": {
      "text/plain": [
       "[('fucking', 100),\n",
       " ('shit', 77),\n",
       " ('clearly', 56),\n",
       " ('fuck', 51),\n",
       " ('realizes', 42),\n",
       " ('kavanaugh', 37),\n",
       " ('unable', 37),\n",
       " ('archives', 33),\n",
       " ('per', 30),\n",
       " ('coworkers', 29),\n",
       " ('asshole', 29),\n",
       " ('recommends', 29),\n",
       " ('currently', 29),\n",
       " ('relieved', 29),\n",
       " ('recommend', 26)]"
      ]
     },
     "execution_count": 14,
     "metadata": {},
     "output_type": "execute_result"
    }
   ],
   "source": [
    "sarc_fd.most_common(15)"
   ]
  },
  {
   "cell_type": "code",
   "execution_count": 15,
   "metadata": {},
   "outputs": [
    {
     "data": {
      "text/plain": [
       "[('huffpost', 62),\n",
       " ('kardashian', 51),\n",
       " ('jenner', 50),\n",
       " ('queer', 50),\n",
       " ('trans', 49),\n",
       " ('lgbt', 39),\n",
       " ('lgbtq', 32),\n",
       " ('roundup', 32),\n",
       " ('trevor', 30),\n",
       " ('noah', 30),\n",
       " ('funniest', 28),\n",
       " ('huffpollster', 24),\n",
       " ('corden', 24),\n",
       " ('hill', 24),\n",
       " ('hawaii', 24)]"
      ]
     },
     "execution_count": 15,
     "metadata": {},
     "output_type": "execute_result"
    }
   ],
   "source": [
    "not_sarc_fd.most_common(15)"
   ]
  },
  {
   "cell_type": "code",
   "execution_count": 16,
   "metadata": {},
   "outputs": [],
   "source": [
    "top_100_sarc = {w for w,cnt in sarc_fd.most_common(100)}\n",
    "top_100_not_sarc = {w for w,cnt in not_sarc_fd.most_common(100)}"
   ]
  },
  {
   "cell_type": "markdown",
   "metadata": {},
   "source": [
    "### Bigrams"
   ]
  },
  {
   "cell_type": "code",
   "execution_count": 17,
   "metadata": {},
   "outputs": [
    {
     "data": {
      "text/plain": [
       "[(('area', 'man'), 263),\n",
       " (('white', 'house'), 125),\n",
       " (('study', 'finds'), 123),\n",
       " (('introduces', 'new'), 68),\n",
       " (('unveils', 'new'), 58),\n",
       " (('area', 'woman'), 49),\n",
       " (('supreme', 'court'), 45),\n",
       " (('new', 'study'), 44),\n",
       " (('high', 'school'), 43),\n",
       " (('pope', 'francis'), 42),\n",
       " (('releases', 'new'), 39),\n",
       " (('hillary', 'clinton'), 38),\n",
       " (('ca', 'believe'), 36),\n",
       " (('historical', 'archives'), 32),\n",
       " (('local', 'man'), 30),\n",
       " (('report', 'finds'), 30),\n",
       " (('paul', 'ryan'), 29),\n",
       " (('new', 'york'), 28),\n",
       " (('onion', 'social'), 26),\n",
       " (('poll', 'finds'), 25),\n",
       " (('mike', 'pence'), 24),\n",
       " (('one', 'day'), 23),\n",
       " (('ted', 'cruz'), 23),\n",
       " (('finds', 'americans'), 23),\n",
       " (('video', 'game'), 22)]"
      ]
     },
     "execution_count": 17,
     "metadata": {},
     "output_type": "execute_result"
    }
   ],
   "source": [
    "sarc_bigrams = nltk.collocations.BigramCollocationFinder.from_words(is_sarc_words)\n",
    "sarc_bigrams.ngram_fd.most_common(25)"
   ]
  },
  {
   "cell_type": "code",
   "execution_count": 18,
   "metadata": {},
   "outputs": [
    {
     "data": {
      "text/plain": [
       "[(('donald', 'trump'), 444),\n",
       " (('hillary', 'clinton'), 141),\n",
       " (('new', 'york'), 91),\n",
       " (('white', 'house'), 86),\n",
       " (('supreme', 'court'), 75),\n",
       " (('bernie', 'sanders'), 64),\n",
       " (('health', 'care'), 59),\n",
       " (('climate', 'change'), 58),\n",
       " (('morning', 'email'), 56),\n",
       " (('need', 'know'), 52),\n",
       " (('north', 'korea'), 46),\n",
       " (('ted', 'cruz'), 42),\n",
       " (('high', 'school'), 33),\n",
       " (('stephen', 'colbert'), 33),\n",
       " (('taylor', 'swift'), 31),\n",
       " (('trump', 'administration'), 31),\n",
       " (('pope', 'francis'), 30),\n",
       " (('new', 'year'), 29),\n",
       " (('trevor', 'noah'), 29),\n",
       " (('sexual', 'assault'), 29),\n",
       " (('paul', 'ryan'), 28),\n",
       " (('fox', 'news'), 27),\n",
       " (('mental', 'health'), 27),\n",
       " (('north', 'carolina'), 27),\n",
       " (('kim', 'kardashian'), 26)]"
      ]
     },
     "execution_count": 18,
     "metadata": {},
     "output_type": "execute_result"
    }
   ],
   "source": [
    "not_sarc_trigrams = nltk.collocations.BigramCollocationFinder.from_words(isnt_sarc_words)\n",
    "not_sarc_trigrams.ngram_fd.most_common(25)"
   ]
  },
  {
   "cell_type": "markdown",
   "metadata": {},
   "source": [
    "# Pipelining"
   ]
  },
  {
   "cell_type": "code",
   "execution_count": 19,
   "metadata": {},
   "outputs": [],
   "source": [
    "char_dataset = tf.data.Dataset.from_tensor_slices((heads,labels))"
   ]
  },
  {
   "cell_type": "code",
   "execution_count": 20,
   "metadata": {},
   "outputs": [
    {
     "name": "stdout",
     "output_type": "stream",
     "text": [
      "text:  b'thirtysomething scientists unveil doomsday clock of hair loss'\n",
      "label:  1\n"
     ]
    }
   ],
   "source": [
    "for example, label in char_dataset.take(1):\n",
    "    print('text: ', example.numpy())\n",
    "    print('label: ', label.numpy())"
   ]
  },
  {
   "cell_type": "code",
   "execution_count": 21,
   "metadata": {},
   "outputs": [],
   "source": [
    "data_size = len(data)\n",
    "train_size = int(0.7 * data_size )\n",
    "test_size = int(0.3 * data_size )\n",
    "\n",
    "train_data = char_dataset.take(train_size)\n",
    "test_data = char_dataset.skip(train_size)"
   ]
  },
  {
   "cell_type": "code",
   "execution_count": 22,
   "metadata": {},
   "outputs": [],
   "source": [
    "buffer_size = 1000\n",
    "batch_size = 256\n",
    "\n",
    "train_data = train_data.shuffle(buffer_size).batch(batch_size)\n",
    "test_data = test_data.batch(batch_size)"
   ]
  },
  {
   "cell_type": "code",
   "execution_count": 23,
   "metadata": {},
   "outputs": [],
   "source": [
    "vocab_size=10000\n",
    "encoder = tf.keras.layers.experimental.preprocessing.TextVectorization(\n",
    "    max_tokens=vocab_size)\n",
    "encoder.adapt(train_data.map(lambda text, label: text))"
   ]
  },
  {
   "cell_type": "code",
   "execution_count": 24,
   "metadata": {},
   "outputs": [
    {
     "name": "stdout",
     "output_type": "stream",
     "text": [
      "texts:  [b\"here's how much betsy devos and her family spent to back the gop senators who confirmed her\"\n",
      " b'hero soldier receives presidential thumbs-up award'\n",
      " b\"the director of hbo's new james foley documentary on making a movie about his childhood pal\"]\n",
      "\n",
      "labels:  [0 1 0]\n"
     ]
    }
   ],
   "source": [
    "for example, label in train_data.take(1):\n",
    "    print('texts: ', example.numpy()[:3])\n",
    "    print()\n",
    "    print('labels: ', label.numpy()[:3])\n"
   ]
  },
  {
   "cell_type": "code",
   "execution_count": 25,
   "metadata": {},
   "outputs": [
    {
     "data": {
      "text/plain": [
       "'vocab = np.array(encoder.get_vocabulary())\\nvocab[:25]'"
      ]
     },
     "execution_count": 25,
     "metadata": {},
     "output_type": "execute_result"
    }
   ],
   "source": [
    "'''vocab = np.array(encoder.get_vocabulary())\n",
    "vocab[:25]'''"
   ]
  },
  {
   "cell_type": "markdown",
   "metadata": {},
   "source": [
    "# Model building"
   ]
  },
  {
   "cell_type": "code",
   "execution_count": 26,
   "metadata": {},
   "outputs": [],
   "source": [
    "from tensorflow.keras.regularizers import l1,l2"
   ]
  },
  {
   "cell_type": "code",
   "execution_count": 27,
   "metadata": {},
   "outputs": [],
   "source": [
    "model = tf.keras.Sequential( [\n",
    "    encoder,\n",
    "    tf.keras.layers.Embedding(input_dim=vocab_size+1,output_dim=64,mask_zero=True),\n",
    "    tf.keras.layers.Bidirectional(tf.keras.layers.LSTM(64,  return_sequences=True,kernel_regularizer=l2(0.01))),\n",
    "    tf.keras.layers.Bidirectional(tf.keras.layers.LSTM(32,kernel_regularizer=l2(0.01))),\n",
    "\n",
    "    tf.keras.layers.Dense(64, activation='relu',kernel_regularizer=l2(0.01)),\n",
    "    tf.keras.layers.Dropout(0.5),\n",
    "    \n",
    "    tf.keras.layers.Dense(32, activation='relu',kernel_regularizer=l2(0.01)),\n",
    "    tf.keras.layers.Dropout(0.5),\n",
    "\n",
    "    tf.keras.layers.Dense(16, activation='relu',kernel_regularizer=l2(0.01)),\n",
    "    tf.keras.layers.Dropout(0.5),\n",
    "    \n",
    "    tf.keras.layers.Dense(1,activation='sigmoid')\n",
    "])"
   ]
  },
  {
   "cell_type": "code",
   "execution_count": 28,
   "metadata": {},
   "outputs": [],
   "source": [
    "from tensorflow.keras.callbacks import EarlyStopping\n",
    "early_stop = EarlyStopping(monitor='val_accuracy', mode='max', verbose=1, patience=5)"
   ]
  },
  {
   "cell_type": "code",
   "execution_count": 29,
   "metadata": {},
   "outputs": [],
   "source": [
    "model.compile(loss=tf.keras.losses.BinaryCrossentropy(),\n",
    "              optimizer=tf.keras.optimizers.Adam(1e-4),\n",
    "              metrics=['accuracy'])"
   ]
  },
  {
   "cell_type": "code",
   "execution_count": 30,
   "metadata": {
    "scrolled": false
   },
   "outputs": [
    {
     "name": "stdout",
     "output_type": "stream",
     "text": [
      "Epoch 1/100\n",
      "79/79 [==============================] - 30s 200ms/step - loss: 6.3793 - accuracy: 0.5047 - val_loss: 5.7716 - val_accuracy: 0.5257\n",
      "Epoch 2/100\n",
      "79/79 [==============================] - 12s 153ms/step - loss: 5.5876 - accuracy: 0.5216 - val_loss: 5.0619 - val_accuracy: 0.5257\n",
      "Epoch 3/100\n",
      "79/79 [==============================] - 11s 146ms/step - loss: 4.9031 - accuracy: 0.5387 - val_loss: 4.4465 - val_accuracy: 0.5259\n",
      "Epoch 4/100\n",
      "79/79 [==============================] - 12s 148ms/step - loss: 4.3091 - accuracy: 0.5658 - val_loss: 3.9100 - val_accuracy: 0.6786\n",
      "Epoch 5/100\n",
      "79/79 [==============================] - 12s 151ms/step - loss: 3.7909 - accuracy: 0.6222 - val_loss: 3.4293 - val_accuracy: 0.7738\n",
      "Epoch 6/100\n",
      "79/79 [==============================] - 12s 151ms/step - loss: 3.3154 - accuracy: 0.6853 - val_loss: 2.9302 - val_accuracy: 0.8064\n",
      "Epoch 7/100\n",
      "79/79 [==============================] - 12s 150ms/step - loss: 2.8528 - accuracy: 0.7604 - val_loss: 2.5069 - val_accuracy: 0.8323\n",
      "Epoch 8/100\n",
      "79/79 [==============================] - 12s 152ms/step - loss: 2.4589 - accuracy: 0.8154 - val_loss: 2.1951 - val_accuracy: 0.8453\n",
      "Epoch 9/100\n",
      "79/79 [==============================] - 12s 156ms/step - loss: 2.1423 - accuracy: 0.8469 - val_loss: 1.9464 - val_accuracy: 0.8449\n",
      "Epoch 10/100\n",
      "79/79 [==============================] - 13s 159ms/step - loss: 1.8714 - accuracy: 0.8719 - val_loss: 1.7387 - val_accuracy: 0.8467\n",
      "Epoch 11/100\n",
      "79/79 [==============================] - 12s 152ms/step - loss: 1.6488 - accuracy: 0.8843 - val_loss: 1.5759 - val_accuracy: 0.8375\n",
      "Epoch 12/100\n",
      "79/79 [==============================] - 12s 156ms/step - loss: 1.4473 - accuracy: 0.8965 - val_loss: 1.4232 - val_accuracy: 0.8406\n",
      "Epoch 13/100\n",
      "79/79 [==============================] - 14s 172ms/step - loss: 1.2751 - accuracy: 0.9119 - val_loss: 1.3076 - val_accuracy: 0.8410\n",
      "Epoch 14/100\n",
      "79/79 [==============================] - 13s 166ms/step - loss: 1.1382 - accuracy: 0.9211 - val_loss: 1.2021 - val_accuracy: 0.8432\n",
      "Epoch 15/100\n",
      "79/79 [==============================] - 13s 160ms/step - loss: 1.0090 - accuracy: 0.9267 - val_loss: 1.1233 - val_accuracy: 0.8418\n",
      "Epoch 00015: early stopping\n"
     ]
    }
   ],
   "source": [
    "history = model.fit(train_data, epochs=100,\n",
    "                    validation_data=test_data, \n",
    "                    validation_steps=30,callbacks=early_stop)"
   ]
  },
  {
   "cell_type": "code",
   "execution_count": 31,
   "metadata": {},
   "outputs": [
    {
     "name": "stdout",
     "output_type": "stream",
     "text": [
      "34/34 [==============================] - 2s 47ms/step - loss: 1.1283 - accuracy: 0.8402\n",
      "Test Loss: 1.128290057182312\n",
      "Test Accuracy: 0.8402050137519836\n"
     ]
    }
   ],
   "source": [
    "test_loss, test_acc = model.evaluate(test_data)\n",
    "\n",
    "print('Test Loss: {}'.format(test_loss))\n",
    "print('Test Accuracy: {}'.format(test_acc))\n"
   ]
  },
  {
   "cell_type": "markdown",
   "metadata": {},
   "source": [
    "# Evaluation"
   ]
  },
  {
   "cell_type": "code",
   "execution_count": 32,
   "metadata": {},
   "outputs": [],
   "source": [
    "import matplotlib.pyplot as plt\n",
    "def plot_graphs(hist,metric):\n",
    "    plt.plot(hist.history[metric])\n",
    "    plt.plot(hist.history['val_'+metric])\n",
    "    plt.legend([metric,'val_'+metric])"
   ]
  },
  {
   "cell_type": "code",
   "execution_count": 33,
   "metadata": {},
   "outputs": [
    {
     "data": {
      "image/png": "[encoded data removed]",
      "text/plain": [
       "<Figure size 432x288 with 1 Axes>"
      ]
     },
     "metadata": {
      "needs_background": "light"
     },
     "output_type": "display_data"
    }
   ],
   "source": [
    "plot_graphs(history,'accuracy')"
   ]
  },
  {
   "cell_type": "code",
   "execution_count": 34,
   "metadata": {},
   "outputs": [
    {
     "data": {
      "image/png": "[encoded data removed]",
      "text/plain": [
       "<Figure size 432x288 with 1 Axes>"
      ]
     },
     "metadata": {
      "needs_background": "light"
     },
     "output_type": "display_data"
    }
   ],
   "source": [
    "plot_graphs(history,'loss')"
   ]
  },
  {
   "cell_type": "markdown",
   "metadata": {},
   "source": [
    "# Testing"
   ]
  },
  {
   "cell_type": "code",
   "execution_count": 35,
   "metadata": {},
   "outputs": [
    {
     "data": {
      "text/plain": [
       "('dept. of transportation to replace highway mile markers with dead raccoons',\n",
       " 1)"
      ]
     },
     "execution_count": 35,
     "metadata": {},
     "output_type": "execute_result"
    }
   ],
   "source": [
    "n = 2651\n",
    "heads[n],labels[n]"
   ]
  },
  {
   "cell_type": "code",
   "execution_count": 36,
   "metadata": {},
   "outputs": [],
   "source": [
    "sample = heads[n]\n",
    "\n",
    "preds = model.predict(np.array([sample]))"
   ]
  },
  {
   "cell_type": "code",
   "execution_count": 54,
   "metadata": {},
   "outputs": [
    {
     "data": {
      "text/plain": [
       "array(<class 'str'>, dtype=object)"
      ]
     },
     "execution_count": 54,
     "metadata": {},
     "output_type": "execute_result"
    }
   ],
   "source": [
    "np.array(type(heads[n]))"
   ]
  },
  {
   "cell_type": "code",
   "execution_count": 37,
   "metadata": {},
   "outputs": [
    {
     "data": {
      "text/plain": [
       "array([[0.99740744]], dtype=float32)"
      ]
     },
     "execution_count": 37,
     "metadata": {},
     "output_type": "execute_result"
    }
   ],
   "source": [
    "preds"
   ]
  },
  {
   "cell_type": "code",
   "execution_count": 38,
   "metadata": {},
   "outputs": [],
   "source": [
    "others = ['Man Returns To Work After Vacation With Fresh, Reenergized Hatred For Job', #yes\n",
    "          'Queen missed second church service following conversation to Satanism', #yes\n",
    "          'The Day Dostoyevsky Discovered the Meaning of Life in a Dream', #no\n",
    "          'Proof Finds That All Change Is a Mix of Order and Randomness', #no\n",
    "         'Iran Eases Up on Inspections Threat', #no\n",
    "        'France Still Struggles With the Shadow of the ‘War Without a Name', #no\n",
    "         'Zuckerberg could make a very good dating app with all the information he has collected about us.', #yes\n",
    "        'It’s so cold outside that I saw a politician with his hands in his own pocket!' ] #yes"
   ]
  },
  {
   "cell_type": "code",
   "execution_count": 39,
   "metadata": {},
   "outputs": [
    {
     "data": {
      "text/plain": [
       "array([[0.9981252 ],\n",
       "       [0.9920792 ],\n",
       "       [0.01537335],\n",
       "       [0.01536202],\n",
       "       [0.31184855],\n",
       "       [0.01541242],\n",
       "       [0.0144951 ],\n",
       "       [0.87671673]], dtype=float32)"
      ]
     },
     "execution_count": 39,
     "metadata": {},
     "output_type": "execute_result"
    }
   ],
   "source": [
    "preds1 = model.predict(np.array(others))\n",
    "preds1"
   ]
  },
  {
   "cell_type": "code",
   "execution_count": 40,
   "metadata": {},
   "outputs": [
    {
     "data": {
      "text/plain": [
       "0.99740744"
      ]
     },
     "execution_count": 40,
     "metadata": {},
     "output_type": "execute_result"
    }
   ],
   "source": [
    "preds[0][0]"
   ]
  },
  {
   "cell_type": "code",
   "execution_count": 41,
   "metadata": {},
   "outputs": [
    {
     "name": "stderr",
     "output_type": "stream",
     "text": [
      "WARNING:absl:Found untraced functions such as forward_lstm_layer_call_and_return_conditional_losses, forward_lstm_layer_call_fn, backward_lstm_layer_call_and_return_conditional_losses, backward_lstm_layer_call_fn, forward_lstm_1_layer_call_and_return_conditional_losses while saving (showing 5 of 40). These functions will not be directly callable after loading.\n"
     ]
    },
    {
     "name": "stdout",
     "output_type": "stream",
     "text": [
      "INFO:tensorflow:Assets written to: ./saved_model/1\\assets\n"
     ]
    },
    {
     "name": "stderr",
     "output_type": "stream",
     "text": [
      "INFO:tensorflow:Assets written to: ./saved_model/1\\assets\n"
     ]
    }
   ],
   "source": [
    "model.save('./saved_model/1')"
   ]
  },
  {
   "cell_type": "code",
   "execution_count": 42,
   "metadata": {},
   "outputs": [],
   "source": [
    "loaded_model = tf.keras.models.load_model('./saved_model/1',compile=False)"
   ]
  },
  {
   "cell_type": "code",
   "execution_count": 55,
   "metadata": {},
   "outputs": [
    {
     "data": {
      "text/plain": [
       "array([[0.99740744]], dtype=float32)"
      ]
     },
     "execution_count": 55,
     "metadata": {},
     "output_type": "execute_result"
    }
   ],
   "source": [
    "loaded_model.predict(np.array([sample]))"
   ]
  },
  {
   "cell_type": "code",
   "execution_count": 56,
   "metadata": {},
   "outputs": [],
   "source": [
    "pred = []"
   ]
  },
  {
   "cell_type": "code",
   "execution_count": 57,
   "metadata": {},
   "outputs": [
    {
     "data": {
      "text/plain": [
       "list"
      ]
     },
     "execution_count": 57,
     "metadata": {},
     "output_type": "execute_result"
    }
   ],
   "source": [
    "type(pred)"
   ]
  },
  {
   "cell_type": "code",
   "execution_count": null,
   "metadata": {},
   "outputs": [],
   "source": []
  }
 ],
 "metadata": {
  "kernelspec": {
   "display_name": "Python 3.7.7 64-bit",
   "language": "python",
   "name": "python37764bitaf7a2e010b6b4857b85a8dd3c5443383"
  },
  "language_info": {
   "codemirror_mode": {
    "name": "ipython",
    "version": 3
   },
   "file_extension": ".py",
   "mimetype": "text/x-python",
   "name": "python",
   "nbconvert_exporter": "python",
   "pygments_lexer": "ipython3",
   "version": "3.7.7"
  }
 },
 "nbformat": 4,
 "nbformat_minor": 4
}
