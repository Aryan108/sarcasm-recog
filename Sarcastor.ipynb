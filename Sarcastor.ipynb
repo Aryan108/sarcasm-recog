{
 "cells": [
  {
   "cell_type": "code",
   "execution_count": 76,
   "metadata": {},
   "outputs": [],
   "source": [
    "import json"
   ]
  },
  {
   "cell_type": "code",
   "execution_count": 77,
   "metadata": {},
   "outputs": [],
   "source": [
    "def parse_data(path):\n",
    "    for l in open(path,'r'):\n",
    "        yield json.loads(l)\n",
    "    "
   ]
  },
  {
   "cell_type": "code",
   "execution_count": 78,
   "metadata": {},
   "outputs": [],
   "source": [
    "data = list(parse_data('./Sarcasm_Headlines_Dataset_v2.json'))\n",
    "heads,labels = [],[]\n",
    "for item in data:\n",
    "    heads.append(item['headline'])\n",
    "    labels.append(item['is_sarcastic'])"
   ]
  },
  {
   "cell_type": "code",
   "execution_count": 106,
   "metadata": {},
   "outputs": [],
   "source": [
    "import nltk"
   ]
  },
  {
   "cell_type": "code",
   "execution_count": 79,
   "metadata": {},
   "outputs": [
    {
     "data": {
      "text/plain": [
       "13634"
      ]
     },
     "execution_count": 79,
     "metadata": {},
     "output_type": "execute_result"
    }
   ],
   "source": [
    "len([a for a in labels if a==1]) # Count of Sasrcastic Headlines"
   ]
  },
  {
   "cell_type": "code",
   "execution_count": 80,
   "metadata": {},
   "outputs": [],
   "source": [
    "import numpy as np\n",
    "from tensorflow.keras.preprocessing.text import Tokenizer\n",
    "from tensorflow.keras.preprocessing.sequence import pad_sequences\n",
    "import tensorflow as tf"
   ]
  },
  {
   "cell_type": "code",
   "execution_count": 81,
   "metadata": {},
   "outputs": [],
   "source": [
    "char_dataset = tf.data.Dataset.from_tensor_slices((heads,labels))"
   ]
  },
  {
   "cell_type": "code",
   "execution_count": 82,
   "metadata": {},
   "outputs": [
    {
     "name": "stdout",
     "output_type": "stream",
     "text": [
      "text:  b'thirtysomething scientists unveil doomsday clock of hair loss'\n",
      "label:  1\n"
     ]
    }
   ],
   "source": [
    "for example, label in char_dataset.take(1):\n",
    "    print('text: ', example.numpy())\n",
    "    print('label: ', label.numpy())"
   ]
  },
  {
   "cell_type": "code",
   "execution_count": 83,
   "metadata": {},
   "outputs": [],
   "source": [
    "data_size = len(data)\n",
    "train_size = int(0.7 * data_size )\n",
    "test_size = int(0.3 * data_size )\n",
    "\n",
    "train_data = char_dataset.take(train_size)\n",
    "test_data = char_dataset.skip(train_size)"
   ]
  },
  {
   "cell_type": "code",
   "execution_count": 84,
   "metadata": {},
   "outputs": [],
   "source": [
    "buffer_size = 1000\n",
    "batch_size = 128\n",
    "\n",
    "train_data = train_data.shuffle(buffer_size).batch(batch_size)\n",
    "test_data = test_data.batch(batch_size)"
   ]
  },
  {
   "cell_type": "code",
   "execution_count": 85,
   "metadata": {},
   "outputs": [],
   "source": [
    "vocab_size=1000\n",
    "encoder = tf.keras.layers.experimental.preprocessing.TextVectorization(\n",
    "    max_tokens=vocab_size)\n",
    "encoder.adapt(train_data.map(lambda text, label: text))"
   ]
  },
  {
   "cell_type": "code",
   "execution_count": 86,
   "metadata": {},
   "outputs": [
    {
     "name": "stdout",
     "output_type": "stream",
     "text": [
      "texts:  [b'how to dress like an nfl superfan and still look good'\n",
      " b'brett kavanaugh reiterates cruel and unusual punishment what makes someone a true kappa'\n",
      " b'hey, remember when bernie sanders played a rabbi in a rom-com?']\n",
      "\n",
      "labels:  [0 1 0]\n"
     ]
    }
   ],
   "source": [
    "for example, label in train_data.take(1):\n",
    "    print('texts: ', example.numpy()[:3])\n",
    "    print()\n",
    "    print('labels: ', label.numpy()[:3])\n"
   ]
  },
  {
   "cell_type": "code",
   "execution_count": 87,
   "metadata": {},
   "outputs": [
    {
     "data": {
      "text/plain": [
       "'vocab = np.array(encoder.get_vocabulary())\\nvocab[:25]'"
      ]
     },
     "execution_count": 87,
     "metadata": {},
     "output_type": "execute_result"
    }
   ],
   "source": [
    "'''vocab = np.array(encoder.get_vocabulary())\n",
    "vocab[:25]'''"
   ]
  },
  {
   "cell_type": "code",
   "execution_count": 94,
   "metadata": {},
   "outputs": [],
   "source": [
    "model = tf.keras.Sequential( [\n",
    "    encoder,\n",
    "    tf.keras.layers.Embedding(input_dim=vocab_size+1,output_dim=64,mask_zero=True),\n",
    "    tf.keras.layers.Bidirectional(tf.keras.layers.LSTM(64,  return_sequences=True)),\n",
    "    tf.keras.layers.Bidirectional(tf.keras.layers.LSTM(32)),\n",
    "    tf.keras.layers.Dense(64, activation='relu'),\n",
    "    tf.keras.layers.Dropout(0.5),\n",
    "    tf.keras.layers.Dense(1)\n",
    "])"
   ]
  },
  {
   "cell_type": "code",
   "execution_count": 95,
   "metadata": {},
   "outputs": [],
   "source": [
    "model.compile(loss=tf.keras.losses.BinaryCrossentropy(from_logits=True),\n",
    "              optimizer=tf.keras.optimizers.Adam(1e-4),\n",
    "              metrics=['accuracy'])"
   ]
  },
  {
   "cell_type": "code",
   "execution_count": 96,
   "metadata": {},
   "outputs": [
    {
     "name": "stdout",
     "output_type": "stream",
     "text": [
      "Epoch 1/25\n",
      "157/157 [==============================] - 8s 50ms/step - loss: 0.6867 - accuracy: 0.5232 - val_loss: 0.6585 - val_accuracy: 0.5190\n",
      "Epoch 2/25\n",
      "157/157 [==============================] - 4s 25ms/step - loss: 0.5107 - accuracy: 0.7018 - val_loss: 0.4276 - val_accuracy: 0.7690\n",
      "Epoch 3/25\n",
      "157/157 [==============================] - 4s 25ms/step - loss: 0.4147 - accuracy: 0.7912 - val_loss: 0.3966 - val_accuracy: 0.7987\n",
      "Epoch 4/25\n",
      "157/157 [==============================] - 4s 25ms/step - loss: 0.3844 - accuracy: 0.8109 - val_loss: 0.3809 - val_accuracy: 0.8146\n",
      "Epoch 5/25\n",
      "157/157 [==============================] - 4s 25ms/step - loss: 0.3654 - accuracy: 0.8260 - val_loss: 0.3727 - val_accuracy: 0.8273\n",
      "Epoch 6/25\n",
      "157/157 [==============================] - 4s 25ms/step - loss: 0.3538 - accuracy: 0.8373 - val_loss: 0.3707 - val_accuracy: 0.8146\n",
      "Epoch 7/25\n",
      "157/157 [==============================] - 4s 25ms/step - loss: 0.3436 - accuracy: 0.8434 - val_loss: 0.3637 - val_accuracy: 0.8331\n",
      "Epoch 8/25\n",
      "157/157 [==============================] - 4s 25ms/step - loss: 0.3375 - accuracy: 0.8490 - val_loss: 0.3641 - val_accuracy: 0.8263\n",
      "Epoch 9/25\n",
      "157/157 [==============================] - 4s 25ms/step - loss: 0.3295 - accuracy: 0.8546 - val_loss: 0.3638 - val_accuracy: 0.8297\n",
      "Epoch 10/25\n",
      "157/157 [==============================] - 4s 25ms/step - loss: 0.3244 - accuracy: 0.8580 - val_loss: 0.3628 - val_accuracy: 0.8406\n",
      "Epoch 11/25\n",
      "157/157 [==============================] - 4s 25ms/step - loss: 0.3210 - accuracy: 0.8602 - val_loss: 0.3649 - val_accuracy: 0.8372\n",
      "Epoch 12/25\n",
      "157/157 [==============================] - 4s 25ms/step - loss: 0.3160 - accuracy: 0.8628 - val_loss: 0.3648 - val_accuracy: 0.8391\n",
      "Epoch 13/25\n",
      "157/157 [==============================] - 4s 25ms/step - loss: 0.3130 - accuracy: 0.8635 - val_loss: 0.3660 - val_accuracy: 0.8388\n",
      "Epoch 14/25\n",
      "157/157 [==============================] - 4s 25ms/step - loss: 0.3105 - accuracy: 0.8654 - val_loss: 0.3666 - val_accuracy: 0.8362\n",
      "Epoch 15/25\n",
      "157/157 [==============================] - 4s 25ms/step - loss: 0.3100 - accuracy: 0.8672 - val_loss: 0.3693 - val_accuracy: 0.8404\n",
      "Epoch 16/25\n",
      "157/157 [==============================] - 4s 25ms/step - loss: 0.3048 - accuracy: 0.8685 - val_loss: 0.3711 - val_accuracy: 0.8409\n",
      "Epoch 17/25\n",
      "157/157 [==============================] - 4s 24ms/step - loss: 0.3040 - accuracy: 0.8681 - val_loss: 0.3745 - val_accuracy: 0.8289\n",
      "Epoch 18/25\n",
      "157/157 [==============================] - 4s 25ms/step - loss: 0.3025 - accuracy: 0.8699 - val_loss: 0.3749 - val_accuracy: 0.8315\n",
      "Epoch 19/25\n",
      "157/157 [==============================] - 4s 24ms/step - loss: 0.3001 - accuracy: 0.8725 - val_loss: 0.3752 - val_accuracy: 0.8367\n",
      "Epoch 20/25\n",
      "157/157 [==============================] - 4s 24ms/step - loss: 0.3008 - accuracy: 0.8720 - val_loss: 0.3772 - val_accuracy: 0.8326\n",
      "Epoch 21/25\n",
      "157/157 [==============================] - 4s 25ms/step - loss: 0.2998 - accuracy: 0.8719 - val_loss: 0.3779 - val_accuracy: 0.8339\n",
      "Epoch 22/25\n",
      "157/157 [==============================] - 4s 24ms/step - loss: 0.2989 - accuracy: 0.8724 - val_loss: 0.3783 - val_accuracy: 0.8357\n",
      "Epoch 23/25\n",
      "157/157 [==============================] - 4s 25ms/step - loss: 0.2966 - accuracy: 0.8739 - val_loss: 0.3793 - val_accuracy: 0.8352\n",
      "Epoch 24/25\n",
      "157/157 [==============================] - 4s 24ms/step - loss: 0.2947 - accuracy: 0.8751 - val_loss: 0.3796 - val_accuracy: 0.8336\n",
      "Epoch 25/25\n",
      "157/157 [==============================] - 4s 25ms/step - loss: 0.2944 - accuracy: 0.8758 - val_loss: 0.3805 - val_accuracy: 0.8339\n"
     ]
    }
   ],
   "source": [
    "history = model.fit(train_data, epochs=25,\n",
    "                    validation_data=test_data, \n",
    "                    validation_steps=30)"
   ]
  },
  {
   "cell_type": "code",
   "execution_count": 97,
   "metadata": {},
   "outputs": [
    {
     "name": "stdout",
     "output_type": "stream",
     "text": [
      "68/68 [==============================] - 1s 15ms/step - loss: 0.3960 - accuracy: 0.8242\n",
      "Test Loss: 0.39599448442459106\n",
      "Test Accuracy: 0.8242487907409668\n"
     ]
    }
   ],
   "source": [
    "test_loss, test_acc = model.evaluate(test_data)\n",
    "\n",
    "print('Test Loss: {}'.format(test_loss))\n",
    "print('Test Accuracy: {}'.format(test_acc))\n"
   ]
  },
  {
   "cell_type": "code",
   "execution_count": 98,
   "metadata": {},
   "outputs": [],
   "source": [
    "import matplotlib.pyplot as plt\n",
    "def plot_graphs(hist,metric):\n",
    "    plt.plot(hist.history[metric])\n",
    "    plt.plot(hist.history['val_'+metric])\n",
    "    plt.legend([metric,'val_'+metric])"
   ]
  },
  {
   "cell_type": "code",
   "execution_count": 99,
   "metadata": {},
   "outputs": [
    {
     "data": {
      "image/png": "[encoded data removed]",
      "text/plain": [
       "<Figure size 432x288 with 1 Axes>"
      ]
     },
     "metadata": {
      "needs_background": "light"
     },
     "output_type": "display_data"
    }
   ],
   "source": [
    "plot_graphs(history,'accuracy')"
   ]
  },
  {
   "cell_type": "code",
   "execution_count": 100,
   "metadata": {},
   "outputs": [
    {
     "data": {
      "image/png": "[encoded data removed]",
      "text/plain": [
       "<Figure size 432x288 with 1 Axes>"
      ]
     },
     "metadata": {
      "needs_background": "light"
     },
     "output_type": "display_data"
    }
   ],
   "source": [
    "plot_graphs(history,'loss')"
   ]
  },
  {
   "cell_type": "code",
   "execution_count": 101,
   "metadata": {},
   "outputs": [
    {
     "data": {
      "text/plain": [
       "('christmas pageant enters pre-production', 1)"
      ]
     },
     "execution_count": 101,
     "metadata": {},
     "output_type": "execute_result"
    }
   ],
   "source": [
    "n = 8486\n",
    "heads[n],labels[n]"
   ]
  },
  {
   "cell_type": "code",
   "execution_count": 102,
   "metadata": {},
   "outputs": [],
   "source": [
    "# Testing\n",
    "\n",
    "sample = heads[n]\n",
    "preds = model.predict(np.array([sample]))"
   ]
  },
  {
   "cell_type": "code",
   "execution_count": 103,
   "metadata": {},
   "outputs": [
    {
     "data": {
      "text/plain": [
       "array([[0.9125291]], dtype=float32)"
      ]
     },
     "execution_count": 103,
     "metadata": {},
     "output_type": "execute_result"
    }
   ],
   "source": [
    "preds"
   ]
  },
  {
   "cell_type": "code",
   "execution_count": 104,
   "metadata": {},
   "outputs": [
    {
     "name": "stdout",
     "output_type": "stream",
     "text": [
      "WARNING:tensorflow:From C:\\Users\\91828\\AppData\\Local\\Programs\\Python\\Python37\\lib\\site-packages\\tensorflow\\python\\ops\\resource_variable_ops.py:1817: calling BaseResourceVariable.__init__ (from tensorflow.python.ops.resource_variable_ops) with constraint is deprecated and will be removed in a future version.\n",
      "Instructions for updating:\n",
      "If using Keras pass *_constraint arguments to layers.\n",
      "INFO:tensorflow:Assets written to: test1\\assets\n"
     ]
    }
   ],
   "source": [
    "model.save('test1')"
   ]
  },
  {
   "cell_type": "code",
   "execution_count": null,
   "metadata": {},
   "outputs": [],
   "source": [
    "loaded_model = tf.keras.models.load_model('test1')"
   ]
  },
  {
   "cell_type": "code",
   "execution_count": null,
   "metadata": {},
   "outputs": [],
   "source": []
  }
 ],
 "metadata": {
  "kernelspec": {
   "display_name": "Python 3.7.7 64-bit",
   "language": "python",
   "name": "python37764bitaf7a2e010b6b4857b85a8dd3c5443383"
  },
  "language_info": {
   "codemirror_mode": {
    "name": "ipython",
    "version": 3
   },
   "file_extension": ".py",
   "mimetype": "text/x-python",
   "name": "python",
   "nbconvert_exporter": "python",
   "pygments_lexer": "ipython3",
   "version": "3.7.7"
  }
 },
 "nbformat": 4,
 "nbformat_minor": 4
}
